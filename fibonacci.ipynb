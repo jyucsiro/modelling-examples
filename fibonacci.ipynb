{
 "cells": [
  {
   "cell_type": "code",
   "execution_count": null,
   "id": "df2fff3a-a959-464b-a425-a2db6b6a5e70",
   "metadata": {
    "tags": [
     "parameters"
    ]
   },
   "outputs": [],
   "source": [
    "n = 200"
   ]
  },
  {
   "cell_type": "code",
   "execution_count": null,
   "id": "296fd528-b5cd-4bc8-a5fa-0d6671cac787",
   "metadata": {
    "tags": []
   },
   "outputs": [],
   "source": [
    "def fib(n, computed = {0: 0, 1: 1}):\n",
    "     if n not in computed:\n",
    "         computed[n] = fib(n-1, computed) + fib(n-2, computed)\n",
    "     return computed[n]"
   ]
  },
  {
   "cell_type": "code",
   "execution_count": null,
   "id": "6b708815-2b57-42d4-b40f-7394dde2a2b5",
   "metadata": {},
   "outputs": [],
   "source": [
    "result = fib(n)"
   ]
  },
  {
   "cell_type": "code",
   "execution_count": null,
   "id": "a2bcb1cf-ecf6-49ec-8da6-834910825ea7",
   "metadata": {},
   "outputs": [],
   "source": [
    "print(result)"
   ]
  }
 ],
 "metadata": {
  "kernelspec": {
   "display_name": "Python 3 (ipykernel)",
   "language": "python",
   "name": "python3"
  },
  "language_info": {
   "codemirror_mode": {
    "name": "ipython",
    "version": 3
   },
   "file_extension": ".py",
   "mimetype": "text/x-python",
   "name": "python",
   "nbconvert_exporter": "python",
   "pygments_lexer": "ipython3",
   "version": "3.10.8"
  }
 },
 "nbformat": 4,
 "nbformat_minor": 5
}
